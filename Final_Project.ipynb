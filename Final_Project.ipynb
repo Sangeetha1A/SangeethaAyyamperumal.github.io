{
 "cells": [
  {
   "cell_type": "code",
   "execution_count": 1,
   "id": "8971f673-699a-4afb-b7a6-93595c4ad74f",
   "metadata": {},
   "outputs": [],
   "source": [
    "import numpy as np\n",
    "import pandas as pd\n",
    "import matplotlib.pyplot as plt\n",
    "import seaborn as sns"
   ]
  },
  {
   "cell_type": "code",
   "execution_count": 2,
   "id": "c0b9958d-34ab-4df3-bce7-2c7b72da9018",
   "metadata": {},
   "outputs": [],
   "source": [
    "Sleep_health= pd.read_csv('/notebooks/datasets/Sleep_health_and_lifestyle_dataset.csv')"
   ]
  },
  {
   "cell_type": "code",
   "execution_count": 32,
   "id": "b86fe317-4ebf-4943-9bc2-a3ffb9133f8e",
   "metadata": {},
   "outputs": [
    {
     "name": "stdout",
     "output_type": "stream",
     "text": [
      "<class 'pandas.core.frame.DataFrame'>\n",
      "RangeIndex: 374 entries, 0 to 373\n",
      "Data columns (total 13 columns):\n",
      " #   Column                   Non-Null Count  Dtype  \n",
      "---  ------                   --------------  -----  \n",
      " 0   Person ID                374 non-null    int64  \n",
      " 1   Gender                   374 non-null    object \n",
      " 2   Age                      374 non-null    object \n",
      " 3   Occupation               374 non-null    object \n",
      " 4   Sleep Duration           374 non-null    float64\n",
      " 5   Quality of Sleep         374 non-null    int64  \n",
      " 6   Physical Activity Level  374 non-null    int64  \n",
      " 7   Stress Level             374 non-null    int64  \n",
      " 8   BMI Category             374 non-null    object \n",
      " 9   Blood Pressure           374 non-null    object \n",
      " 10  Heart Rate               374 non-null    int64  \n",
      " 11  Daily Steps              374 non-null    int64  \n",
      " 12  Sleep Disorder           155 non-null    object \n",
      "dtypes: float64(1), int64(6), object(6)\n",
      "memory usage: 38.1+ KB\n",
      "None\n"
     ]
    }
   ],
   "source": [
    "print(Sleep_health.info())"
   ]
  },
  {
   "cell_type": "code",
   "execution_count": 33,
   "id": "8ab58cb9-5d38-4528-8ba8-bd7711116210",
   "metadata": {},
   "outputs": [
    {
     "data": {
      "text/html": [
       "<div>\n",
       "<style scoped>\n",
       "    .dataframe tbody tr th:only-of-type {\n",
       "        vertical-align: middle;\n",
       "    }\n",
       "\n",
       "    .dataframe tbody tr th {\n",
       "        vertical-align: top;\n",
       "    }\n",
       "\n",
       "    .dataframe thead th {\n",
       "        text-align: right;\n",
       "    }\n",
       "</style>\n",
       "<table border=\"1\" class=\"dataframe\">\n",
       "  <thead>\n",
       "    <tr style=\"text-align: right;\">\n",
       "      <th></th>\n",
       "      <th>Person ID</th>\n",
       "      <th>Gender</th>\n",
       "      <th>Age</th>\n",
       "      <th>Occupation</th>\n",
       "      <th>Sleep Duration</th>\n",
       "      <th>Quality of Sleep</th>\n",
       "      <th>Physical Activity Level</th>\n",
       "      <th>Stress Level</th>\n",
       "      <th>BMI Category</th>\n",
       "      <th>Blood Pressure</th>\n",
       "      <th>Heart Rate</th>\n",
       "      <th>Daily Steps</th>\n",
       "      <th>Sleep Disorder</th>\n",
       "    </tr>\n",
       "  </thead>\n",
       "  <tbody>\n",
       "    <tr>\n",
       "      <th>0</th>\n",
       "      <td>1</td>\n",
       "      <td>Male</td>\n",
       "      <td>27</td>\n",
       "      <td>Software Engineer</td>\n",
       "      <td>6.1</td>\n",
       "      <td>6</td>\n",
       "      <td>42</td>\n",
       "      <td>6</td>\n",
       "      <td>Overweight</td>\n",
       "      <td>126/83</td>\n",
       "      <td>77</td>\n",
       "      <td>4200</td>\n",
       "      <td>NaN</td>\n",
       "    </tr>\n",
       "    <tr>\n",
       "      <th>1</th>\n",
       "      <td>2</td>\n",
       "      <td>Male</td>\n",
       "      <td>28</td>\n",
       "      <td>Doctor</td>\n",
       "      <td>6.2</td>\n",
       "      <td>6</td>\n",
       "      <td>60</td>\n",
       "      <td>8</td>\n",
       "      <td>Normal</td>\n",
       "      <td>125/80</td>\n",
       "      <td>75</td>\n",
       "      <td>10000</td>\n",
       "      <td>NaN</td>\n",
       "    </tr>\n",
       "    <tr>\n",
       "      <th>2</th>\n",
       "      <td>3</td>\n",
       "      <td>Male</td>\n",
       "      <td>28</td>\n",
       "      <td>Doctor</td>\n",
       "      <td>6.2</td>\n",
       "      <td>6</td>\n",
       "      <td>60</td>\n",
       "      <td>8</td>\n",
       "      <td>Normal</td>\n",
       "      <td>125/80</td>\n",
       "      <td>75</td>\n",
       "      <td>10000</td>\n",
       "      <td>NaN</td>\n",
       "    </tr>\n",
       "    <tr>\n",
       "      <th>3</th>\n",
       "      <td>4</td>\n",
       "      <td>Male</td>\n",
       "      <td>28</td>\n",
       "      <td>Sales Representative</td>\n",
       "      <td>5.9</td>\n",
       "      <td>4</td>\n",
       "      <td>30</td>\n",
       "      <td>8</td>\n",
       "      <td>Obese</td>\n",
       "      <td>140/90</td>\n",
       "      <td>85</td>\n",
       "      <td>3000</td>\n",
       "      <td>Sleep Apnea</td>\n",
       "    </tr>\n",
       "    <tr>\n",
       "      <th>4</th>\n",
       "      <td>5</td>\n",
       "      <td>Male</td>\n",
       "      <td>28</td>\n",
       "      <td>Sales Representative</td>\n",
       "      <td>5.9</td>\n",
       "      <td>4</td>\n",
       "      <td>30</td>\n",
       "      <td>8</td>\n",
       "      <td>Obese</td>\n",
       "      <td>140/90</td>\n",
       "      <td>85</td>\n",
       "      <td>3000</td>\n",
       "      <td>Sleep Apnea</td>\n",
       "    </tr>\n",
       "    <tr>\n",
       "      <th>...</th>\n",
       "      <td>...</td>\n",
       "      <td>...</td>\n",
       "      <td>...</td>\n",
       "      <td>...</td>\n",
       "      <td>...</td>\n",
       "      <td>...</td>\n",
       "      <td>...</td>\n",
       "      <td>...</td>\n",
       "      <td>...</td>\n",
       "      <td>...</td>\n",
       "      <td>...</td>\n",
       "      <td>...</td>\n",
       "      <td>...</td>\n",
       "    </tr>\n",
       "    <tr>\n",
       "      <th>369</th>\n",
       "      <td>370</td>\n",
       "      <td>Female</td>\n",
       "      <td>59</td>\n",
       "      <td>Nurse</td>\n",
       "      <td>8.1</td>\n",
       "      <td>9</td>\n",
       "      <td>75</td>\n",
       "      <td>3</td>\n",
       "      <td>Overweight</td>\n",
       "      <td>140/95</td>\n",
       "      <td>68</td>\n",
       "      <td>7000</td>\n",
       "      <td>Sleep Apnea</td>\n",
       "    </tr>\n",
       "    <tr>\n",
       "      <th>370</th>\n",
       "      <td>371</td>\n",
       "      <td>Female</td>\n",
       "      <td>59</td>\n",
       "      <td>Nurse</td>\n",
       "      <td>8.0</td>\n",
       "      <td>9</td>\n",
       "      <td>75</td>\n",
       "      <td>3</td>\n",
       "      <td>Overweight</td>\n",
       "      <td>140/95</td>\n",
       "      <td>68</td>\n",
       "      <td>7000</td>\n",
       "      <td>Sleep Apnea</td>\n",
       "    </tr>\n",
       "    <tr>\n",
       "      <th>371</th>\n",
       "      <td>372</td>\n",
       "      <td>Female</td>\n",
       "      <td>59</td>\n",
       "      <td>Nurse</td>\n",
       "      <td>8.1</td>\n",
       "      <td>9</td>\n",
       "      <td>75</td>\n",
       "      <td>3</td>\n",
       "      <td>Overweight</td>\n",
       "      <td>140/95</td>\n",
       "      <td>68</td>\n",
       "      <td>7000</td>\n",
       "      <td>Sleep Apnea</td>\n",
       "    </tr>\n",
       "    <tr>\n",
       "      <th>372</th>\n",
       "      <td>373</td>\n",
       "      <td>Female</td>\n",
       "      <td>59</td>\n",
       "      <td>Nurse</td>\n",
       "      <td>8.1</td>\n",
       "      <td>9</td>\n",
       "      <td>75</td>\n",
       "      <td>3</td>\n",
       "      <td>Overweight</td>\n",
       "      <td>140/95</td>\n",
       "      <td>68</td>\n",
       "      <td>7000</td>\n",
       "      <td>Sleep Apnea</td>\n",
       "    </tr>\n",
       "    <tr>\n",
       "      <th>373</th>\n",
       "      <td>374</td>\n",
       "      <td>Female</td>\n",
       "      <td>59</td>\n",
       "      <td>Nurse</td>\n",
       "      <td>8.1</td>\n",
       "      <td>9</td>\n",
       "      <td>75</td>\n",
       "      <td>3</td>\n",
       "      <td>Overweight</td>\n",
       "      <td>140/95</td>\n",
       "      <td>68</td>\n",
       "      <td>7000</td>\n",
       "      <td>Sleep Apnea</td>\n",
       "    </tr>\n",
       "  </tbody>\n",
       "</table>\n",
       "<p>374 rows × 13 columns</p>\n",
       "</div>"
      ],
      "text/plain": [
       "     Person ID  Gender Age            Occupation  Sleep Duration  \\\n",
       "0            1    Male  27     Software Engineer             6.1   \n",
       "1            2    Male  28                Doctor             6.2   \n",
       "2            3    Male  28                Doctor             6.2   \n",
       "3            4    Male  28  Sales Representative             5.9   \n",
       "4            5    Male  28  Sales Representative             5.9   \n",
       "..         ...     ...  ..                   ...             ...   \n",
       "369        370  Female  59                 Nurse             8.1   \n",
       "370        371  Female  59                 Nurse             8.0   \n",
       "371        372  Female  59                 Nurse             8.1   \n",
       "372        373  Female  59                 Nurse             8.1   \n",
       "373        374  Female  59                 Nurse             8.1   \n",
       "\n",
       "     Quality of Sleep  Physical Activity Level  Stress Level BMI Category  \\\n",
       "0                   6                       42             6   Overweight   \n",
       "1                   6                       60             8       Normal   \n",
       "2                   6                       60             8       Normal   \n",
       "3                   4                       30             8        Obese   \n",
       "4                   4                       30             8        Obese   \n",
       "..                ...                      ...           ...          ...   \n",
       "369                 9                       75             3   Overweight   \n",
       "370                 9                       75             3   Overweight   \n",
       "371                 9                       75             3   Overweight   \n",
       "372                 9                       75             3   Overweight   \n",
       "373                 9                       75             3   Overweight   \n",
       "\n",
       "    Blood Pressure  Heart Rate  Daily Steps Sleep Disorder  \n",
       "0           126/83          77         4200            NaN  \n",
       "1           125/80          75        10000            NaN  \n",
       "2           125/80          75        10000            NaN  \n",
       "3           140/90          85         3000    Sleep Apnea  \n",
       "4           140/90          85         3000    Sleep Apnea  \n",
       "..             ...         ...          ...            ...  \n",
       "369         140/95          68         7000    Sleep Apnea  \n",
       "370         140/95          68         7000    Sleep Apnea  \n",
       "371         140/95          68         7000    Sleep Apnea  \n",
       "372         140/95          68         7000    Sleep Apnea  \n",
       "373         140/95          68         7000    Sleep Apnea  \n",
       "\n",
       "[374 rows x 13 columns]"
      ]
     },
     "execution_count": 33,
     "metadata": {},
     "output_type": "execute_result"
    }
   ],
   "source": [
    "Sleep_health"
   ]
  },
  {
   "cell_type": "markdown",
   "id": "c75bf888-6b57-4105-9e8b-c60a397bcf1b",
   "metadata": {},
   "source": [
    " #Correlation between Sleep Duration and Stress Level"
   ]
  },
  {
   "cell_type": "code",
   "execution_count": 34,
   "id": "aa08ab6c-5f3b-490f-9843-1fe41db93bdb",
   "metadata": {},
   "outputs": [
    {
     "data": {
      "image/png": "[encoded data removed]",
      "text/plain": [
       "<Figure size 1000x600 with 1 Axes>"
      ]
     },
     "metadata": {},
     "output_type": "display_data"
    }
   ],
   "source": [
    "plt.figure(figsize=(10, 6))\n",
    "plt.scatter(Sleep_health['Sleep Duration'],Sleep_health['Stress Level'], alpha=0.5)\n",
    "plt.title('Sleep Duration vs Stress Level')\n",
    "plt.xlabel('Sleep Duration (hours)')\n",
    "plt.ylabel('Stress Level')\n",
    "plt.grid()\n",
    "plt.savefig('sleep_vs_Stress Level.png')\n",
    "plt.show()"
   ]
  },
  {
   "cell_type": "code",
   "execution_count": 35,
   "id": "aa885d15-bacc-4476-815c-a6df531fe61d",
   "metadata": {},
   "outputs": [
    {
     "data": {
      "text/plain": [
       "<Axes: xlabel='Quality of Sleep', ylabel='Stress Level'>"
      ]
     },
     "execution_count": 35,
     "metadata": {},
     "output_type": "execute_result"
    },
    {
     "data": {
      "image/png": "[encoded data removed]",
      "text/plain": [
       "<Figure size 640x480 with 1 Axes>"
      ]
     },
     "metadata": {},
     "output_type": "display_data"
    }
   ],
   "source": [
    "sns.scatterplot(data=Sleep_health, x='Quality of Sleep', y='Stress Level')"
   ]
  },
  {
   "cell_type": "code",
   "execution_count": 36,
   "id": "0ed2a510-6e59-4cbb-8319-d3b4651e478a",
   "metadata": {},
   "outputs": [
    {
     "data": {
      "image/png": "[encoded data removed]",
      "text/plain": [
       "<Figure size 1000x500 with 1 Axes>"
      ]
     },
     "metadata": {},
     "output_type": "display_data"
    }
   ],
   "source": [
    "#Grouping by physical activity level and calculating average sleep quality\n",
    "activity_sleep_quality = Sleep_health.groupby('Physical Activity Level')['Quality of Sleep'].mean().reset_index()\n",
    "\n",
    "plt.figure(figsize=(10, 5))\n",
    "plt.bar(activity_sleep_quality['Physical Activity Level'], activity_sleep_quality['Quality of Sleep'])\n",
    "plt.title(' Quality of Sleep by Physical Activity Level')\n",
    "plt.xlabel('Physical Activity Level')\n",
    "plt.ylabel('Quality of Sleep')\n",
    "plt.xticks(rotation=45)\n",
    "plt.show()\n"
   ]
  },
  {
   "cell_type": "markdown",
   "id": "1302435c-dbc5-45a1-b58b-9bae7baaa1c2",
   "metadata": {},
   "source": [
    "# Melt/Pivot columns \"Age\", \"Sleep Duration\", \"Occupation\",and \"Stress Level\"  then display the top 5 line and the bottom 5 lines. \n",
    "#  Display a filtered sample of the melted data showing only the Obese BMI Category."
   ]
  },
  {
   "cell_type": "code",
   "execution_count": 37,
   "id": "1851d409-7131-45a4-bcf4-042890f73d99",
   "metadata": {},
   "outputs": [],
   "source": [
    "melted_Sleep_health  = pd.melt(Sleep_health, id_vars=['BMI Category'], value_vars=['Age', 'Sleep Duration', 'Occupation', 'Stress Level'])"
   ]
  },
  {
   "cell_type": "code",
   "execution_count": 38,
   "id": "ee02338c-ae01-430a-9cbb-95b1698ac2d3",
   "metadata": {},
   "outputs": [],
   "source": [
    "Obese = melted_Sleep_health[melted_Sleep_health['BMI Category'] == 'Obese']"
   ]
  },
  {
   "cell_type": "code",
   "execution_count": 39,
   "id": "6b111cb1-816b-407b-bf8f-f021502dad90",
   "metadata": {},
   "outputs": [
    {
     "name": "stdout",
     "output_type": "stream",
     "text": [
      "  BMI Category variable value\n",
      "0   Overweight      Age    27\n",
      "1       Normal      Age    28\n",
      "2       Normal      Age    28\n",
      "3        Obese      Age    28\n",
      "4        Obese      Age    28\n",
      "     BMI Category      variable value\n",
      "1491   Overweight  Stress Level     3\n",
      "1492   Overweight  Stress Level     3\n",
      "1493   Overweight  Stress Level     3\n",
      "1494   Overweight  Stress Level     3\n",
      "1495   Overweight  Stress Level     3\n"
     ]
    }
   ],
   "source": [
    "print(melted_Sleep_health.head())\n",
    "print(melted_Sleep_health.tail())"
   ]
  },
  {
   "cell_type": "code",
   "execution_count": 40,
   "id": "56ad2691-ef9f-452d-9743-4ba703863f2c",
   "metadata": {},
   "outputs": [
    {
     "name": "stdout",
     "output_type": "stream",
     "text": [
      "     BMI Category        variable                 value\n",
      "3           Obese             Age                    28\n",
      "4           Obese             Age                    28\n",
      "5           Obese             Age                    28\n",
      "6           Obese             Age                    29\n",
      "93          Obese             Age                    35\n",
      "145         Obese             Age                    38\n",
      "264         Obese             Age                    48\n",
      "266         Obese             Age                    48\n",
      "276         Obese             Age                    49\n",
      "277         Obese             Age                    49\n",
      "377         Obese  Sleep Duration                   5.9\n",
      "378         Obese  Sleep Duration                   5.9\n",
      "379         Obese  Sleep Duration                   5.9\n",
      "380         Obese  Sleep Duration                   6.3\n",
      "467         Obese  Sleep Duration                   7.4\n",
      "519         Obese  Sleep Duration                   7.4\n",
      "638         Obese  Sleep Duration                   7.3\n",
      "640         Obese  Sleep Duration                   7.3\n",
      "650         Obese  Sleep Duration                   8.1\n",
      "651         Obese  Sleep Duration                   8.1\n",
      "751         Obese      Occupation  Sales Representative\n",
      "752         Obese      Occupation  Sales Representative\n",
      "753         Obese      Occupation     Software Engineer\n",
      "754         Obese      Occupation               Teacher\n",
      "841         Obese      Occupation                Lawyer\n",
      "893         Obese      Occupation                Lawyer\n",
      "1012        Obese      Occupation                Doctor\n",
      "1014        Obese      Occupation                Doctor\n",
      "1024        Obese      Occupation                Doctor\n",
      "1025        Obese      Occupation                Doctor\n",
      "1125        Obese    Stress Level                     8\n",
      "1126        Obese    Stress Level                     8\n",
      "1127        Obese    Stress Level                     8\n",
      "1128        Obese    Stress Level                     7\n",
      "1215        Obese    Stress Level                     5\n",
      "1267        Obese    Stress Level                     5\n",
      "1386        Obese    Stress Level                     5\n",
      "1388        Obese    Stress Level                     5\n",
      "1398        Obese    Stress Level                     3\n",
      "1399        Obese    Stress Level                     3\n"
     ]
    }
   ],
   "source": [
    "print(Obese )"
   ]
  },
  {
   "cell_type": "markdown",
   "id": "d27a2add-66c1-4ed5-95ff-f40a36cc1a95",
   "metadata": {},
   "source": [
    "# Provide a count of all the missing values for columns \"Daily Steps\" and \"Sleep Disorder\".\n",
    "# Use interpolate to fill missing values for rows 7 - 17 and columns 0 - 8. \n",
    "# Display a second subset for data that fills missing values with \"none\" for rows 7 - 17 and columns 0 - 8.\n"
   ]
  },
  {
   "cell_type": "code",
   "execution_count": 41,
   "id": "bde81e1f-d3c2-4718-878c-61f44c2405bc",
   "metadata": {},
   "outputs": [],
   "source": [
    "missing_values_count = {\n",
    "    'Daily Steps': Sleep_health['Daily Steps'].isnull().sum(),\n",
    "    'Sleep Disorder': Sleep_health['Sleep Disorder'].isnull().sum()\n",
    "}"
   ]
  },
  {
   "cell_type": "code",
   "execution_count": 42,
   "id": "c55f99c2-e94a-48e9-9933-70e9cd15141e",
   "metadata": {},
   "outputs": [
    {
     "data": {
      "text/plain": [
       "{'Daily Steps': np.int64(0), 'Sleep Disorder': np.int64(219)}"
      ]
     },
     "execution_count": 42,
     "metadata": {},
     "output_type": "execute_result"
    }
   ],
   "source": [
    "{\n",
    "    'Daily Steps': Sleep_health['Daily Steps'].isnull().sum(),\n",
    "    'Sleep Disorder': Sleep_health['Sleep Disorder'].isnull().sum()\n",
    "}"
   ]
  },
  {
   "cell_type": "code",
   "execution_count": 43,
   "id": "77f29979-8408-46f9-aef8-19ceecc13bb7",
   "metadata": {},
   "outputs": [
    {
     "name": "stdout",
     "output_type": "stream",
     "text": [
      "Count of missing values:\n",
      "{'Daily Steps': np.int64(0), 'Sleep Disorder': np.int64(219)}\n"
     ]
    }
   ],
   "source": [
    "print(\"Count of missing values:\")\n",
    "print(missing_values_count)"
   ]
  },
  {
   "cell_type": "code",
   "execution_count": 44,
   "id": "3ad5d203-2a56-44b1-980d-439896aba348",
   "metadata": {},
   "outputs": [
    {
     "name": "stderr",
     "output_type": "stream",
     "text": [
      "C:\\Users\\sange\\AppData\\Local\\Temp\\ipykernel_61896\\3880138255.py:2: FutureWarning: DataFrame.interpolate with object dtype is deprecated and will raise in a future version. Call obj.infer_objects(copy=False) before interpolating instead.\n",
      "  Sleep_health.iloc[7:18, 0:9] = Sleep_health.iloc[7:18, 0:9].interpolate()\n"
     ]
    }
   ],
   "source": [
    "#Interpolate to fill missing values for rows 7 - 17 and columns 0 - 8\n",
    "Sleep_health.iloc[7:18, 0:9] = Sleep_health.iloc[7:18, 0:9].interpolate()"
   ]
  },
  {
   "cell_type": "code",
   "execution_count": 45,
   "id": "973abe1f-6cb2-4087-9db1-821aa40b639e",
   "metadata": {},
   "outputs": [
    {
     "name": "stdout",
     "output_type": "stream",
     "text": [
      "\n",
      "Data after interpolation:\n",
      "    Person ID  Gender Age Occupation  Sleep Duration  Quality of Sleep  \\\n",
      "7           8    Male  29     Doctor             7.8                 7   \n",
      "8           9    Male  29     Doctor             7.8                 7   \n",
      "9          10    Male  29     Doctor             7.8                 7   \n",
      "10         11    Male  29     Doctor             6.1                 6   \n",
      "11         12    Male  29     Doctor             7.8                 7   \n",
      "12         13    Male  29     Doctor             6.1                 6   \n",
      "13         14    Male  29     Doctor             6.0                 6   \n",
      "14         15    Male  29     Doctor             6.0                 6   \n",
      "15         16    Male  29     Doctor             6.0                 6   \n",
      "16         17  Female  29      Nurse             6.5                 5   \n",
      "17         18    Male  29     Doctor             6.0                 6   \n",
      "\n",
      "    Physical Activity Level  Stress Level   BMI Category  \n",
      "7                        75             6         Normal  \n",
      "8                        75             6         Normal  \n",
      "9                        75             6         Normal  \n",
      "10                       30             8         Normal  \n",
      "11                       75             6         Normal  \n",
      "12                       30             8         Normal  \n",
      "13                       30             8         Normal  \n",
      "14                       30             8         Normal  \n",
      "15                       30             8         Normal  \n",
      "16                       40             7  Normal Weight  \n",
      "17                       30             8         Normal  \n"
     ]
    }
   ],
   "source": [
    "print(\"\\nData after interpolation:\")\n",
    "print(Sleep_health.iloc[7:18, 0:9])"
   ]
  },
  {
   "cell_type": "markdown",
   "id": "4614244a-5972-4534-b537-2e06271252c2",
   "metadata": {},
   "source": [
    "Display the current data type of the \"Age\" value in the Sleep_health dataset. \n",
    "Change the date type of the \"Age\" value from \"int64\" to \"object\". Then display the changed data type."
   ]
  },
  {
   "cell_type": "code",
   "execution_count": 47,
   "id": "06f147a7-b942-4c39-89bb-03e7ca3d50dc",
   "metadata": {},
   "outputs": [
    {
     "name": "stdout",
     "output_type": "stream",
     "text": [
      "object\n"
     ]
    }
   ],
   "source": [
    "print(Sleep_health['Age'].dtype)"
   ]
  },
  {
   "cell_type": "code",
   "execution_count": 48,
   "id": "949dfd93-b340-48a7-9805-fff02d1995f6",
   "metadata": {},
   "outputs": [],
   "source": [
    "Sleep_health['Age'] = Sleep_health['Age'].astype('object')"
   ]
  },
  {
   "cell_type": "code",
   "execution_count": 49,
   "id": "ea0f501e-e05d-4a3e-9557-7ffd8bfdb41f",
   "metadata": {},
   "outputs": [
    {
     "name": "stdout",
     "output_type": "stream",
     "text": [
      "object\n"
     ]
    }
   ],
   "source": [
    "print(Sleep_health['Age'].dtype)"
   ]
  },
  {
   "cell_type": "code",
   "execution_count": 50,
   "id": "022e2cc4-0c60-4e43-83ff-ee996f83d11a",
   "metadata": {},
   "outputs": [
    {
     "name": "stdout",
     "output_type": "stream",
     "text": [
      "Aggregation \n"
     ]
    },
    {
     "data": {
      "text/plain": [
       "Occupation  Sleep Duration  BMI Category   Stress Level\n",
       "Accountant  6.5             Overweight     7               7.0\n",
       "            6.6             Overweight     7               7.0\n",
       "            7.1             Normal         4               4.0\n",
       "            7.2             Normal         4               4.0\n",
       "                            Normal Weight  6               6.0\n",
       "                                                          ... \n",
       "Teacher     6.7             Overweight     5               5.0\n",
       "            6.8             Overweight     6               6.0\n",
       "                                           7               7.0\n",
       "            7.1             Normal         4               4.0\n",
       "            7.2             Normal         4               4.0\n",
       "Name: Stress Level, Length: 75, dtype: float64"
      ]
     },
     "execution_count": 50,
     "metadata": {},
     "output_type": "execute_result"
    }
   ],
   "source": [
    "print(\"Aggregation \")\n",
    "\n",
    "(Sleep_health\n",
    ".groupby(['Occupation','Sleep Duration','BMI Category','Stress Level'])['Stress Level']\n",
    ".mean())"
   ]
  },
  {
   "cell_type": "markdown",
   "id": "6500d170-cea2-4179-9b59-47144e4f8750",
   "metadata": {},
   "source": [
    "Based upon this aggregation, which Occupation has the highest stress level?\n",
    "\n",
    "Accountant"
   ]
  },
  {
   "cell_type": "code",
   "execution_count": null,
   "id": "32b789b3-9a94-46bb-a72b-75f6ec85b7f6",
   "metadata": {},
   "outputs": [],
   "source": []
  }
 ],
 "metadata": {
  "kernelspec": {
   "display_name": "Python 3 (ipykernel)",
   "language": "python",
   "name": "python3"
  },
  "language_info": {
   "codemirror_mode": {
    "name": "ipython",
    "version": 3
   },
   "file_extension": ".py",
   "mimetype": "text/x-python",
   "name": "python",
   "nbconvert_exporter": "python",
   "pygments_lexer": "ipython3",
   "version": "3.12.2"
  }
 },
 "nbformat": 4,
 "nbformat_minor": 5
}
